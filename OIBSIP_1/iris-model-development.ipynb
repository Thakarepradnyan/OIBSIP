{
 "cells": [
  {
   "cell_type": "markdown",
   "id": "b0ac3585",
   "metadata": {
    "papermill": {
     "duration": 0.006325,
     "end_time": "2023-05-29T06:40:24.225133",
     "exception": false,
     "start_time": "2023-05-29T06:40:24.218808",
     "status": "completed"
    },
    "tags": []
   },
   "source": [
    "To perform the Task 1 of this project i.e to train the machine learning model.\n",
    "first we need to import all the necessary libraries for this project. \n"
   ]
  },
  {
   "cell_type": "code",
   "execution_count": 1,
   "id": "07d7e099",
   "metadata": {
    "execution": {
     "iopub.execute_input": "2023-05-29T06:40:24.236417Z",
     "iopub.status.busy": "2023-05-29T06:40:24.235882Z",
     "iopub.status.idle": "2023-05-29T06:40:25.975700Z",
     "shell.execute_reply": "2023-05-29T06:40:25.974544Z"
    },
    "papermill": {
     "duration": 1.747868,
     "end_time": "2023-05-29T06:40:25.978289",
     "exception": false,
     "start_time": "2023-05-29T06:40:24.230421",
     "status": "completed"
    },
    "tags": []
   },
   "outputs": [],
   "source": [
    "import pandas as pd\n",
    "from sklearn.model_selection import train_test_split\n",
    "from sklearn.preprocessing import StandardScaler\n",
    "from sklearn.neighbors import KNeighborsClassifier\n",
    "from sklearn.metrics import accuracy_score"
   ]
  },
  {
   "cell_type": "markdown",
   "id": "7dda4f76",
   "metadata": {
    "papermill": {
     "duration": 0.003847,
     "end_time": "2023-05-29T06:40:25.986224",
     "exception": false,
     "start_time": "2023-05-29T06:40:25.982377",
     "status": "completed"
    },
    "tags": []
   },
   "source": [
    "Now we load our provided datadest"
   ]
  },
  {
   "cell_type": "code",
   "execution_count": 2,
   "id": "6f6543b7",
   "metadata": {
    "execution": {
     "iopub.execute_input": "2023-05-29T06:40:25.995838Z",
     "iopub.status.busy": "2023-05-29T06:40:25.995448Z",
     "iopub.status.idle": "2023-05-29T06:40:26.036869Z",
     "shell.execute_reply": "2023-05-29T06:40:26.035679Z"
    },
    "papermill": {
     "duration": 0.049271,
     "end_time": "2023-05-29T06:40:26.039480",
     "exception": false,
     "start_time": "2023-05-29T06:40:25.990209",
     "status": "completed"
    },
    "tags": []
   },
   "outputs": [
    {
     "name": "stdout",
     "output_type": "stream",
     "text": [
      "      Id  SepalLengthCm  SepalWidthCm  PetalLengthCm  PetalWidthCm  \\\n",
      "0      1            5.1           3.5            1.4           0.2   \n",
      "1      2            4.9           3.0            1.4           0.2   \n",
      "2      3            4.7           3.2            1.3           0.2   \n",
      "3      4            4.6           3.1            1.5           0.2   \n",
      "4      5            5.0           3.6            1.4           0.2   \n",
      "..   ...            ...           ...            ...           ...   \n",
      "145  146            6.7           3.0            5.2           2.3   \n",
      "146  147            6.3           2.5            5.0           1.9   \n",
      "147  148            6.5           3.0            5.2           2.0   \n",
      "148  149            6.2           3.4            5.4           2.3   \n",
      "149  150            5.9           3.0            5.1           1.8   \n",
      "\n",
      "            Species  \n",
      "0       Iris-setosa  \n",
      "1       Iris-setosa  \n",
      "2       Iris-setosa  \n",
      "3       Iris-setosa  \n",
      "4       Iris-setosa  \n",
      "..              ...  \n",
      "145  Iris-virginica  \n",
      "146  Iris-virginica  \n",
      "147  Iris-virginica  \n",
      "148  Iris-virginica  \n",
      "149  Iris-virginica  \n",
      "\n",
      "[150 rows x 6 columns]\n"
     ]
    }
   ],
   "source": [
    "data = pd.read_csv('/kaggle/input/iris-task/Iris.csv')\n",
    "print(data)"
   ]
  },
  {
   "cell_type": "markdown",
   "id": "9b657010",
   "metadata": {
    "papermill": {
     "duration": 0.003962,
     "end_time": "2023-05-29T06:40:26.048097",
     "exception": false,
     "start_time": "2023-05-29T06:40:26.044135",
     "status": "completed"
    },
    "tags": []
   },
   "source": [
    "For making focus studying the relationship between the independent variables and the target variables(Species).\n",
    "Now we will split our Dataset(data) imto features and labels and the target variables(Species). \n",
    "This will give us a clear idea about input variables(features) and output variables(labels) "
   ]
  },
  {
   "cell_type": "code",
   "execution_count": 3,
   "id": "8cab91ad",
   "metadata": {
    "execution": {
     "iopub.execute_input": "2023-05-29T06:40:26.057942Z",
     "iopub.status.busy": "2023-05-29T06:40:26.057526Z",
     "iopub.status.idle": "2023-05-29T06:40:26.069647Z",
     "shell.execute_reply": "2023-05-29T06:40:26.068667Z"
    },
    "papermill": {
     "duration": 0.019671,
     "end_time": "2023-05-29T06:40:26.071854",
     "exception": false,
     "start_time": "2023-05-29T06:40:26.052183",
     "status": "completed"
    },
    "tags": []
   },
   "outputs": [],
   "source": [
    "X = data.drop('Species', axis=1)  # Features\n",
    "y = data['Species']  # Labels"
   ]
  },
  {
   "cell_type": "markdown",
   "id": "ae3a32a7",
   "metadata": {
    "papermill": {
     "duration": 0.003828,
     "end_time": "2023-05-29T06:40:26.079892",
     "exception": false,
     "start_time": "2023-05-29T06:40:26.076064",
     "status": "completed"
    },
    "tags": []
   },
   "source": [
    "Now for training the machine learning model we will split our dataset(data) into training and testing sets."
   ]
  },
  {
   "cell_type": "code",
   "execution_count": 4,
   "id": "38cb7014",
   "metadata": {
    "execution": {
     "iopub.execute_input": "2023-05-29T06:40:26.091571Z",
     "iopub.status.busy": "2023-05-29T06:40:26.091201Z",
     "iopub.status.idle": "2023-05-29T06:40:26.099102Z",
     "shell.execute_reply": "2023-05-29T06:40:26.098093Z"
    },
    "papermill": {
     "duration": 0.016027,
     "end_time": "2023-05-29T06:40:26.101643",
     "exception": false,
     "start_time": "2023-05-29T06:40:26.085616",
     "status": "completed"
    },
    "tags": []
   },
   "outputs": [],
   "source": [
    "X_train, X_test, y_train, y_test = train_test_split(X, y, test_size=0.2, random_state=42)"
   ]
  },
  {
   "cell_type": "markdown",
   "id": "62b3fa06",
   "metadata": {
    "papermill": {
     "duration": 0.0038,
     "end_time": "2023-05-29T06:40:26.109642",
     "exception": false,
     "start_time": "2023-05-29T06:40:26.105842",
     "status": "completed"
    },
    "tags": []
   },
   "source": [
    "Now we will scale the features using StandardScaler"
   ]
  },
  {
   "cell_type": "code",
   "execution_count": 5,
   "id": "5de6af6e",
   "metadata": {
    "execution": {
     "iopub.execute_input": "2023-05-29T06:40:26.119472Z",
     "iopub.status.busy": "2023-05-29T06:40:26.119067Z",
     "iopub.status.idle": "2023-05-29T06:40:26.129459Z",
     "shell.execute_reply": "2023-05-29T06:40:26.128625Z"
    },
    "papermill": {
     "duration": 0.017754,
     "end_time": "2023-05-29T06:40:26.131446",
     "exception": false,
     "start_time": "2023-05-29T06:40:26.113692",
     "status": "completed"
    },
    "tags": []
   },
   "outputs": [],
   "source": [
    "scaler = StandardScaler()\n",
    "X_train = scaler.fit_transform(X_train)\n",
    "X_test = scaler.transform(X_test)"
   ]
  },
  {
   "cell_type": "markdown",
   "id": "55e61e32",
   "metadata": {
    "papermill": {
     "duration": 0.003813,
     "end_time": "2023-05-29T06:40:26.139412",
     "exception": false,
     "start_time": "2023-05-29T06:40:26.135599",
     "status": "completed"
    },
    "tags": []
   },
   "source": [
    "Now for delevloping our machine learning model we will use K-Nearest-Neighbour(KNN) algorithm.\n",
    "we are using KNN because it is starighforward algorithm which is easy to understand and implement. During the prediction, it compares new instances to stored training instances to make prediction based on majority vote of K-Nearest -Neighbours. Also it does not require training phase in traditional sence, hence it does not nedd training time. so that KNN is a good starting point, it's worth exploring and comparing the performance of other algorithms as well, such as decision trees, random forests, or support vector machines, to determine the best classifier for a given task."
   ]
  },
  {
   "cell_type": "code",
   "execution_count": 6,
   "id": "05ff6841",
   "metadata": {
    "execution": {
     "iopub.execute_input": "2023-05-29T06:40:26.148935Z",
     "iopub.status.busy": "2023-05-29T06:40:26.148587Z",
     "iopub.status.idle": "2023-05-29T06:40:26.163067Z",
     "shell.execute_reply": "2023-05-29T06:40:26.161983Z"
    },
    "papermill": {
     "duration": 0.022047,
     "end_time": "2023-05-29T06:40:26.165499",
     "exception": false,
     "start_time": "2023-05-29T06:40:26.143452",
     "status": "completed"
    },
    "tags": []
   },
   "outputs": [
    {
     "data": {
      "text/html": [
       "<style>#sk-container-id-1 {color: black;background-color: white;}#sk-container-id-1 pre{padding: 0;}#sk-container-id-1 div.sk-toggleable {background-color: white;}#sk-container-id-1 label.sk-toggleable__label {cursor: pointer;display: block;width: 100%;margin-bottom: 0;padding: 0.3em;box-sizing: border-box;text-align: center;}#sk-container-id-1 label.sk-toggleable__label-arrow:before {content: \"▸\";float: left;margin-right: 0.25em;color: #696969;}#sk-container-id-1 label.sk-toggleable__label-arrow:hover:before {color: black;}#sk-container-id-1 div.sk-estimator:hover label.sk-toggleable__label-arrow:before {color: black;}#sk-container-id-1 div.sk-toggleable__content {max-height: 0;max-width: 0;overflow: hidden;text-align: left;background-color: #f0f8ff;}#sk-container-id-1 div.sk-toggleable__content pre {margin: 0.2em;color: black;border-radius: 0.25em;background-color: #f0f8ff;}#sk-container-id-1 input.sk-toggleable__control:checked~div.sk-toggleable__content {max-height: 200px;max-width: 100%;overflow: auto;}#sk-container-id-1 input.sk-toggleable__control:checked~label.sk-toggleable__label-arrow:before {content: \"▾\";}#sk-container-id-1 div.sk-estimator input.sk-toggleable__control:checked~label.sk-toggleable__label {background-color: #d4ebff;}#sk-container-id-1 div.sk-label input.sk-toggleable__control:checked~label.sk-toggleable__label {background-color: #d4ebff;}#sk-container-id-1 input.sk-hidden--visually {border: 0;clip: rect(1px 1px 1px 1px);clip: rect(1px, 1px, 1px, 1px);height: 1px;margin: -1px;overflow: hidden;padding: 0;position: absolute;width: 1px;}#sk-container-id-1 div.sk-estimator {font-family: monospace;background-color: #f0f8ff;border: 1px dotted black;border-radius: 0.25em;box-sizing: border-box;margin-bottom: 0.5em;}#sk-container-id-1 div.sk-estimator:hover {background-color: #d4ebff;}#sk-container-id-1 div.sk-parallel-item::after {content: \"\";width: 100%;border-bottom: 1px solid gray;flex-grow: 1;}#sk-container-id-1 div.sk-label:hover label.sk-toggleable__label {background-color: #d4ebff;}#sk-container-id-1 div.sk-serial::before {content: \"\";position: absolute;border-left: 1px solid gray;box-sizing: border-box;top: 0;bottom: 0;left: 50%;z-index: 0;}#sk-container-id-1 div.sk-serial {display: flex;flex-direction: column;align-items: center;background-color: white;padding-right: 0.2em;padding-left: 0.2em;position: relative;}#sk-container-id-1 div.sk-item {position: relative;z-index: 1;}#sk-container-id-1 div.sk-parallel {display: flex;align-items: stretch;justify-content: center;background-color: white;position: relative;}#sk-container-id-1 div.sk-item::before, #sk-container-id-1 div.sk-parallel-item::before {content: \"\";position: absolute;border-left: 1px solid gray;box-sizing: border-box;top: 0;bottom: 0;left: 50%;z-index: -1;}#sk-container-id-1 div.sk-parallel-item {display: flex;flex-direction: column;z-index: 1;position: relative;background-color: white;}#sk-container-id-1 div.sk-parallel-item:first-child::after {align-self: flex-end;width: 50%;}#sk-container-id-1 div.sk-parallel-item:last-child::after {align-self: flex-start;width: 50%;}#sk-container-id-1 div.sk-parallel-item:only-child::after {width: 0;}#sk-container-id-1 div.sk-dashed-wrapped {border: 1px dashed gray;margin: 0 0.4em 0.5em 0.4em;box-sizing: border-box;padding-bottom: 0.4em;background-color: white;}#sk-container-id-1 div.sk-label label {font-family: monospace;font-weight: bold;display: inline-block;line-height: 1.2em;}#sk-container-id-1 div.sk-label-container {text-align: center;}#sk-container-id-1 div.sk-container {/* jupyter's `normalize.less` sets `[hidden] { display: none; }` but bootstrap.min.css set `[hidden] { display: none !important; }` so we also need the `!important` here to be able to override the default hidden behavior on the sphinx rendered scikit-learn.org. See: https://github.com/scikit-learn/scikit-learn/issues/21755 */display: inline-block !important;position: relative;}#sk-container-id-1 div.sk-text-repr-fallback {display: none;}</style><div id=\"sk-container-id-1\" class=\"sk-top-container\"><div class=\"sk-text-repr-fallback\"><pre>KNeighborsClassifier(n_neighbors=3)</pre><b>In a Jupyter environment, please rerun this cell to show the HTML representation or trust the notebook. <br />On GitHub, the HTML representation is unable to render, please try loading this page with nbviewer.org.</b></div><div class=\"sk-container\" hidden><div class=\"sk-item\"><div class=\"sk-estimator sk-toggleable\"><input class=\"sk-toggleable__control sk-hidden--visually\" id=\"sk-estimator-id-1\" type=\"checkbox\" checked><label for=\"sk-estimator-id-1\" class=\"sk-toggleable__label sk-toggleable__label-arrow\">KNeighborsClassifier</label><div class=\"sk-toggleable__content\"><pre>KNeighborsClassifier(n_neighbors=3)</pre></div></div></div></div></div>"
      ],
      "text/plain": [
       "KNeighborsClassifier(n_neighbors=3)"
      ]
     },
     "execution_count": 6,
     "metadata": {},
     "output_type": "execute_result"
    }
   ],
   "source": [
    "knn = KNeighborsClassifier(n_neighbors=3)\n",
    "knn.fit(X_train, y_train)"
   ]
  },
  {
   "cell_type": "markdown",
   "id": "e5f658f9",
   "metadata": {
    "papermill": {
     "duration": 0.004043,
     "end_time": "2023-05-29T06:40:26.174120",
     "exception": false,
     "start_time": "2023-05-29T06:40:26.170077",
     "status": "completed"
    },
    "tags": []
   },
   "source": [
    "Now we will predict the labels for the test set"
   ]
  },
  {
   "cell_type": "code",
   "execution_count": 7,
   "id": "26d15053",
   "metadata": {
    "execution": {
     "iopub.execute_input": "2023-05-29T06:40:26.184399Z",
     "iopub.status.busy": "2023-05-29T06:40:26.183962Z",
     "iopub.status.idle": "2023-05-29T06:40:26.191661Z",
     "shell.execute_reply": "2023-05-29T06:40:26.190683Z"
    },
    "papermill": {
     "duration": 0.01549,
     "end_time": "2023-05-29T06:40:26.193929",
     "exception": false,
     "start_time": "2023-05-29T06:40:26.178439",
     "status": "completed"
    },
    "tags": []
   },
   "outputs": [],
   "source": [
    "y_pred = knn.predict(X_test)"
   ]
  },
  {
   "cell_type": "markdown",
   "id": "7bbb886c",
   "metadata": {
    "papermill": {
     "duration": 0.004281,
     "end_time": "2023-05-29T06:40:26.202775",
     "exception": false,
     "start_time": "2023-05-29T06:40:26.198494",
     "status": "completed"
    },
    "tags": []
   },
   "source": [
    "Our model developement is done now.\n",
    "Now we will check for the accuracy of the model\n"
   ]
  },
  {
   "cell_type": "code",
   "execution_count": 8,
   "id": "416dfd7e",
   "metadata": {
    "execution": {
     "iopub.execute_input": "2023-05-29T06:40:26.213092Z",
     "iopub.status.busy": "2023-05-29T06:40:26.212687Z",
     "iopub.status.idle": "2023-05-29T06:40:26.218809Z",
     "shell.execute_reply": "2023-05-29T06:40:26.218058Z"
    },
    "papermill": {
     "duration": 0.01392,
     "end_time": "2023-05-29T06:40:26.221114",
     "exception": false,
     "start_time": "2023-05-29T06:40:26.207194",
     "status": "completed"
    },
    "tags": []
   },
   "outputs": [
    {
     "name": "stdout",
     "output_type": "stream",
     "text": [
      "Accuracy: 1.0\n"
     ]
    }
   ],
   "source": [
    "accuracy = accuracy_score(y_test, y_pred)\n",
    "print(\"Accuracy:\", accuracy)"
   ]
  },
  {
   "cell_type": "markdown",
   "id": "b5693002",
   "metadata": {
    "papermill": {
     "duration": 0.004051,
     "end_time": "2023-05-29T06:40:26.229513",
     "exception": false,
     "start_time": "2023-05-29T06:40:26.225462",
     "status": "completed"
    },
    "tags": []
   },
   "source": [
    "Now it seems that we have successfully trained a machine learning model for the Iris flower classification task and achieved a high accuracy score. So, our task 1 of Iris flower classification can be considered completed."
   ]
  }
 ],
 "metadata": {
  "kernelspec": {
   "display_name": "Python 3",
   "language": "python",
   "name": "python3"
  },
  "language_info": {
   "codemirror_mode": {
    "name": "ipython",
    "version": 3
   },
   "file_extension": ".py",
   "mimetype": "text/x-python",
   "name": "python",
   "nbconvert_exporter": "python",
   "pygments_lexer": "ipython3",
   "version": "3.10.10"
  },
  "papermill": {
   "default_parameters": {},
   "duration": 13.794502,
   "end_time": "2023-05-29T06:40:27.256231",
   "environment_variables": {},
   "exception": null,
   "input_path": "__notebook__.ipynb",
   "output_path": "__notebook__.ipynb",
   "parameters": {},
   "start_time": "2023-05-29T06:40:13.461729",
   "version": "2.4.0"
  }
 },
 "nbformat": 4,
 "nbformat_minor": 5
}
